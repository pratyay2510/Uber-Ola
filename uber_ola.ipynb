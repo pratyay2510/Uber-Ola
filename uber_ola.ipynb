{
 "cells": [
  {
   "cell_type": "markdown",
   "metadata": {},
   "source": [
    "### Importing libraries"
   ]
  },
  {
   "cell_type": "code",
   "execution_count": null,
   "metadata": {},
   "outputs": [],
   "source": [
    "from geopy.distance import geodesic\n",
    "from sklearn.cluster import KMeans\n",
    "import seaborn as sns; sns.set()\n",
    "import matplotlib.pyplot as plt\n",
    "from datetime import datetime\n",
    "import pandas as pd\n",
    "import numpy as np\n",
    "import googlemaps\n",
    "import random"
   ]
  },
  {
   "cell_type": "markdown",
   "metadata": {},
   "source": [
    "### Getting the google api key"
   ]
  },
  {
   "cell_type": "code",
   "execution_count": null,
   "metadata": {},
   "outputs": [],
   "source": [
    "gmaps_key = googlemaps.Client(key = '')"
   ]
  },
  {
   "cell_type": "markdown",
   "metadata": {},
   "source": [
    "### Reading the csv file with the predefined location names of locations in kolkata"
   ]
  },
  {
   "cell_type": "code",
   "execution_count": null,
   "metadata": {},
   "outputs": [],
   "source": [
    "#DATASET\n",
    "file = 'locations.csv'\n",
    "df = pd.read_csv(file)\n",
    "df.head()"
   ]
  },
  {
   "cell_type": "markdown",
   "metadata": {},
   "source": [
    "### Getting the latitudes and longitudes of the location names and saving the location names along with their location coordinates in a separate csv file"
   ]
  },
  {
   "cell_type": "code",
   "execution_count": null,
   "metadata": {},
   "outputs": [],
   "source": [
    "for i in range(len(df)):\n",
    "    result = gmaps_key.geocode(df.iloc[i,0] + ' ,kolkata')\n",
    "    try:\n",
    "        lat = result[0]['geometry']['location']['lat']\n",
    "        lon = result[0]['geometry']['location']['lng']\n",
    "        df['lat'][i] = lat\n",
    "        df['lng'][i] = lon\n",
    "\n",
    "    except:\n",
    "        lat = None\n",
    "        lon = None\n",
    "        \n",
    "        \n",
    "# df.to_csv('location_final.csv')"
   ]
  },
  {
   "cell_type": "markdown",
   "metadata": {},
   "source": [
    "### Reading the csv file with locations and coordinates"
   ]
  },
  {
   "cell_type": "code",
   "execution_count": null,
   "metadata": {},
   "outputs": [],
   "source": [
    "data = pd.read_csv('location_final.csv')\n",
    "print(len(data))\n",
    "data.head(10)"
   ]
  },
  {
   "cell_type": "markdown",
   "metadata": {},
   "source": [
    "# Clustering"
   ]
  },
  {
   "cell_type": "markdown",
   "metadata": {},
   "source": [
    "#### Getting the list of tuples containing the location coordinates of the places"
   ]
  },
  {
   "cell_type": "code",
   "execution_count": null,
   "metadata": {},
   "outputs": [],
   "source": [
    "C = []\n",
    "for i in range(len(data)):\n",
    "    C.append((data['lat'][i], data['lng'][i]))"
   ]
  },
  {
   "cell_type": "code",
   "execution_count": null,
   "metadata": {},
   "outputs": [],
   "source": [
    "X = data.loc[:,['name','lat','lng']]\n",
    "X.head(10)"
   ]
  },
  {
   "cell_type": "markdown",
   "metadata": {},
   "source": [
    "### Testing to see what number of clusters will provide best results."
   ]
  },
  {
   "cell_type": "markdown",
   "metadata": {},
   "source": [
    "#### Calling the KMeans classifier and fitting it into the coordinates"
   ]
  },
  {
   "cell_type": "code",
   "execution_count": null,
   "metadata": {},
   "outputs": [],
   "source": [
    "C = []\n",
    "for i in range(len(data)):\n",
    "    C.append((data['lat'][i], data['lng'][i]))\n",
    "kmeans = [KMeans(n_clusters = i) for i in range(1,15)]\n",
    "score = [kmeans[i].fit(C).score(C) for i in range(len(kmeans))]\n",
    "plt.plot(range(1,15), score)\n",
    "plt.xlabel('Number of Clusters')\n",
    "plt.ylabel('Score')\n",
    "plt.title('Elbow Curve')\n",
    "plt.show()"
   ]
  },
  {
   "cell_type": "markdown",
   "metadata": {},
   "source": [
    "#### Plotting score for each number of clusters"
   ]
  },
  {
   "cell_type": "code",
   "execution_count": null,
   "metadata": {},
   "outputs": [],
   "source": [
    "plt.plot(range(1,15), score)\n",
    "plt.xlabel('Number of Clusters')\n",
    "plt.ylabel('Score')\n",
    "plt.title('Elbow Curve')\n",
    "plt.show()"
   ]
  },
  {
   "cell_type": "markdown",
   "metadata": {},
   "source": [
    "#### Getting our desired cluster number and using it to build a clustering instance and fitting it on the coordinates"
   ]
  },
  {
   "cell_type": "code",
   "execution_count": null,
   "metadata": {},
   "outputs": [],
   "source": [
    "no = 2\n",
    "kmeans_final = KMeans(n_clusters = no, random_state = 0).fit(C)"
   ]
  },
  {
   "cell_type": "markdown",
   "metadata": {},
   "source": [
    "#### Predicting the clusters in which the location falls and adding them to our dataframe"
   ]
  },
  {
   "cell_type": "code",
   "execution_count": null,
   "metadata": {},
   "outputs": [],
   "source": [
    "X['cluster_label'] = kmeans_final.fit_predict(C)\n",
    "centers = kmeans_final.cluster_centers_ # Coordinates of cluster centers.\n",
    "labels = kmeans_final.predict(C) # Labels of each point\n",
    "X.head(5)"
   ]
  },
  {
   "cell_type": "markdown",
   "metadata": {},
   "source": [
    "#### Visualising our clustered locations"
   ]
  },
  {
   "cell_type": "code",
   "execution_count": null,
   "metadata": {},
   "outputs": [],
   "source": [
    "X.plot.scatter(x = 'lat', y = 'lng', c=labels, s=1, cmap = 'inferno')\n",
    "plt.legend()\n",
    "# plt.scatter(centers[:, 0], centers[:, 1], c='black', s=50, alpha=0.5)"
   ]
  },
  {
   "cell_type": "markdown",
   "metadata": {},
   "source": [
    "#### Saving our labeled dataframe into a final csv file"
   ]
  },
  {
   "cell_type": "code",
   "execution_count": null,
   "metadata": {},
   "outputs": [],
   "source": [
    "# X.to_csv('Location_labeled.csv')"
   ]
  },
  {
   "cell_type": "code",
   "execution_count": null,
   "metadata": {},
   "outputs": [],
   "source": [
    "#cluster_labels gets the labels\n",
    "cluster_labels = kmeans_final.labels_\n",
    "\n",
    "# label_arr will contain all locations which fall under a cluster \n",
    "# i.e label_arr[0] will give all the locations falling under cluster 0 \n",
    "label_arr = {alpha : [] for alpha in range(no)}                                                \n",
    "for i in range(len(cluster_labels)):\n",
    "    label_arr[cluster_labels[i]].append(i)"
   ]
  },
  {
   "cell_type": "code",
   "execution_count": null,
   "metadata": {},
   "outputs": [],
   "source": [
    "# x will contain the names of all the places which fall in the given cluster\n",
    "cluster = 0\n",
    "x = [X['name'][label_arr[cluster][i]] for i in range(len(label_arr[cluster]))]\n",
    "print(x)"
   ]
  },
  {
   "cell_type": "markdown",
   "metadata": {},
   "source": [
    "#### Getting the names, coordinates and label of each location in the variables"
   ]
  },
  {
   "cell_type": "code",
   "execution_count": null,
   "metadata": {},
   "outputs": [],
   "source": [
    "names = [X['name'][i] for i in range(len(X))]\n",
    "coordinates = [(X['lat'][i], X['lng'][i]) for i in range(len(X))]\n",
    "areas = [X['cluster_label'][i] for i in range(len(X))]"
   ]
  },
  {
   "cell_type": "markdown",
   "metadata": {},
   "source": [
    "# Booking a Taxi"
   ]
  },
  {
   "cell_type": "markdown",
   "metadata": {},
   "source": [
    "#### Defining a Taxi object"
   ]
  },
  {
   "cell_type": "code",
   "execution_count": null,
   "metadata": {},
   "outputs": [],
   "source": [
    "class Taxi:\n",
    "    \n",
    "    def __init__(self,key,index,number):\n",
    "        self.key = key\n",
    "        self.location_coor = coordinates[index]\n",
    "        self.location_name = names[index]\n",
    "        self.area = areas[index]\n",
    "        self.number = number"
   ]
  },
  {
   "cell_type": "markdown",
   "metadata": {},
   "source": [
    "#### Function to make taxies and allocate them random locations"
   ]
  },
  {
   "cell_type": "code",
   "execution_count": null,
   "metadata": {},
   "outputs": [],
   "source": [
    "def make_taxis(no_taxis):\n",
    "    number_list = [random.randint(2013,8013) for i in range(no_taxis)]\n",
    "    index_list = [random.randint(0,len(X)-1) for i in range(no_taxis)]\n",
    "    taxis = [Taxi(i,index_list[i],number_list[i]) for i in range(no_taxis)]\n",
    "    return taxis"
   ]
  },
  {
   "cell_type": "markdown",
   "metadata": {},
   "source": [
    "#### Function to ask for the users location"
   ]
  },
  {
   "cell_type": "code",
   "execution_count": null,
   "metadata": {},
   "outputs": [],
   "source": [
    "def ask_location(location):\n",
    "    r = gmaps_key.geocode(location + ' ,kolkata')\n",
    "    try:\n",
    "        lat = r[0]['geometry']['location']['lat']\n",
    "        lon = r[0]['geometry']['location']['lng']\n",
    "    except:\n",
    "        lat = None\n",
    "        lon = None\n",
    "\n",
    "    if(lat!=None):\n",
    "        arr = [(lat,lon)]\n",
    "        label = kmeans_final.predict(arr)\n",
    "\n",
    "        \n",
    "        \n",
    "    return arr[0],label[0]"
   ]
  },
  {
   "cell_type": "markdown",
   "metadata": {},
   "source": [
    "#### Function to allocate a taxi to the user"
   ]
  },
  {
   "cell_type": "code",
   "execution_count": null,
   "metadata": {},
   "outputs": [],
   "source": [
    "def allocate_taxi(taxis,location_coordinates,label):\n",
    "    \n",
    "    minimum = 100\n",
    "    taxi = None\n",
    "    taxis_in_area = []\n",
    "    for i in taxis:\n",
    "        if(i.area == label):\n",
    "            taxis_in_area.append(i)\n",
    "            \n",
    "    for i in taxis_in_area:\n",
    "        dist = compute_distance(location_coordinates, i.location_coor)\n",
    "        if(dist<minimum):\n",
    "            minimum = dist\n",
    "            taxi = i\n",
    "        else:\n",
    "            continue\n",
    "            \n",
    "    return taxi, taxis_in_area\n"
   ]
  },
  {
   "cell_type": "markdown",
   "metadata": {},
   "source": [
    "#### Function to compute the euclidean distance between two locations"
   ]
  },
  {
   "cell_type": "code",
   "execution_count": null,
   "metadata": {},
   "outputs": [],
   "source": [
    "def compute_distance(x,y):\n",
    "    return (gmaps_key.distance_matrix(x,y)['rows'][0]['elements'][0]['distance']['value']/1000)"
   ]
  },
  {
   "cell_type": "code",
   "execution_count": null,
   "metadata": {},
   "outputs": [],
   "source": [
    "def compute_time(x,y):\n",
    "    time_s = gmaps_key.distance_matrix(x,y)['rows'][0]['elements'][0]['duration']['value']\n",
    "    sec = time_s%60\n",
    "    time_m = int(time_s/60)\n",
    "    return time_m"
   ]
  },
  {
   "cell_type": "code",
   "execution_count": null,
   "metadata": {},
   "outputs": [],
   "source": [
    "def compute_fare(x,y):\n",
    "    \n",
    "    now = datetime.now()\n",
    "    current_time = now.hour\n",
    "    if(current_time<18 and current_time>6):\n",
    "        rate = 13\n",
    "    else:\n",
    "        rate = 13*1.5\n",
    "    \n",
    "    dist = (float)(compute_distance(x,y))\n",
    "    time_required = compute_time(x,y)\n",
    "    if (dist<=2):\n",
    "        fare = 25 + time_required*0.2\n",
    "    else:\n",
    "        fare = 25 + (dist-2)*rate + time_required*0.2\n",
    "        \n",
    "    return fare"
   ]
  },
  {
   "cell_type": "code",
   "execution_count": null,
   "metadata": {},
   "outputs": [],
   "source": [
    "def get_coor(location):\n",
    "    result = gmaps_key.geocode(drop_loc + ' ,kolkata')\n",
    "    try:\n",
    "        lat = result[0]['geometry']['location']['lat']\n",
    "        lon = result[0]['geometry']['location']['lng']\n",
    "\n",
    "    except:\n",
    "        lat = None\n",
    "        lon = None\n",
    "        \n",
    "    return (lat,lon)"
   ]
  },
  {
   "cell_type": "code",
   "execution_count": null,
   "metadata": {},
   "outputs": [],
   "source": [
    "no_taxis = 100\n",
    "taxis = make_taxis(no_taxis)\n",
    "for i in taxis:\n",
    "    print(f\"Key : {i.key}, Location : {i.location_name}, coordinates : {i.location_coor}, area : {i.area}, number: {i.number}\")"
   ]
  },
  {
   "cell_type": "code",
   "execution_count": null,
   "metadata": {},
   "outputs": [],
   "source": [
    "no_taxis = 200\n",
    "taxis = make_taxis(no_taxis)"
   ]
  },
  {
   "cell_type": "code",
   "execution_count": null,
   "metadata": {},
   "outputs": [],
   "source": [
    "pickup = input(\"Enter your location : \")\n",
    "pickup = pickup + ',kolkata'\n",
    "\n",
    "drop_loc = input('Enter your destination : ')\n",
    "drop_loc = drop_loc + ',kolkata'\n",
    "\n",
    "arr, label = ask_location(pickup)\n",
    "\n",
    "taxi, taxis_in_area = allocate_taxi(taxis,arr,label)\n",
    "\n",
    "dist = compute_distance(pickup,drop_loc)\n",
    "time_pickup = compute_time(pickup, taxi.location_name + ',kolkata')\n",
    "time_reach = compute_time(pickup,drop_loc)\n",
    "fare = compute_fare(pickup,drop_loc)\n",
    "\n",
    "print(f\"\\nTaxi number :{taxi.number} from {taxi.location_name} will pick you up from your location in {time_pickup} mins\")\n",
    "print(f'Distance to be travelled is : {dist} km')\n",
    "print('Your bill will be : Rs', round(fare,2))\n",
    "\n",
    "if (time_reach>60):\n",
    "    t_m = time_reach%60\n",
    "    t_h = int(time_reach/60)\n",
    "    print(f'You will reach your destination {t_h} hours and {t_m} minutes after departure')\n",
    "else:\n",
    "    print(f'You will reach your destination {time_reach} minutes after departure.')\n"
   ]
  }
 ],
 "metadata": {
  "kernelspec": {
   "display_name": "gputest",
   "language": "python",
   "name": "gputest"
  },
  "language_info": {
   "codemirror_mode": {
    "name": "ipython",
    "version": 3
   },
   "file_extension": ".py",
   "mimetype": "text/x-python",
   "name": "python",
   "nbconvert_exporter": "python",
   "pygments_lexer": "ipython3",
   "version": "3.7.7"
  }
 },
 "nbformat": 4,
 "nbformat_minor": 4
}
